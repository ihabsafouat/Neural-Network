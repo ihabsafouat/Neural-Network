{
  "cells": [
    {
      "source": [
        "# IMPORTANT: SOME KAGGLE DATA SOURCES ARE PRIVATE\n",
        "# RUN THIS CELL IN ORDER TO IMPORT YOUR KAGGLE DATA SOURCES.\n",
        "import kagglehub\n",
        "kagglehub.login()\n"
      ],
      "metadata": {
        "id": "aesqu4Kwq1pW",
        "outputId": "812d2b51-9d2f-4a58-e055-61750b03fb5e",
        "colab": {
          "base_uri": "https://localhost:8080/",
          "height": 301,
          "referenced_widgets": [
            "9673e3d9a6b8468a86caba33c1cb01d1",
            "4a11ccace44a429983f14ff20a1c0e61",
            "6d9b043aa8234167baeede07f7979bf0",
            "e83b99f128e541aa9667ed8786aec13e",
            "ef11f4c53b7246e3b0781884cda5600b",
            "222ab00b55a04746a1089d2c4ad517ff",
            "4369bb0e41d546659f02913cd914c725",
            "62d72315d77c445baf31a5216931382c",
            "73ef756c9e564e5f831899af57801957",
            "3d425a93284f4fb2bbf2cb1c31d68978",
            "9e8bfb5060dd4af1bbc36c81a47b2a45",
            "35a93052e47a46758d45212f08064606",
            "1234e711ad4049ab8d06f1523b6e80c7",
            "c84590ff22694b83bca5117a720875d8",
            "05aeae4a8c694d4eaf08f9109c960c96",
            "68c717a8937e488d9e66f3991fcf307f",
            "9e613292106b431bbbe7601c9e5fef3e"
          ]
        }
      },
      "cell_type": "code",
      "outputs": [
        {
          "output_type": "display_data",
          "data": {
            "text/plain": [
              "VBox(children=(HTML(value='<center> <img\\nsrc=https://www.kaggle.com/static/images/site-logo.png\\nalt=\\'Kaggle…"
            ],
            "application/vnd.jupyter.widget-view+json": {
              "version_major": 2,
              "version_minor": 0,
              "model_id": "9673e3d9a6b8468a86caba33c1cb01d1"
            }
          },
          "metadata": {}
        }
      ],
      "execution_count": 13
    },
    {
      "source": [
        "# IMPORTANT: RUN THIS CELL IN ORDER TO IMPORT YOUR KAGGLE DATA SOURCES,\n",
        "# THEN FEEL FREE TO DELETE THIS CELL.\n",
        "# NOTE: THIS NOTEBOOK ENVIRONMENT DIFFERS FROM KAGGLE'S PYTHON\n",
        "# ENVIRONMENT SO THERE MAY BE MISSING LIBRARIES USED BY YOUR\n",
        "# NOTEBOOK.\n",
        "\n",
        "digit_recognizer_path = kagglehub.competition_download('digit-recognizer')\n",
        "\n",
        "print('Data source import complete.')\n"
      ],
      "metadata": {
        "id": "q8dMXMh3q1pY",
        "outputId": "51e7afdd-c92f-4ea6-e9a6-ac623ba641e2",
        "colab": {
          "base_uri": "https://localhost:8080/"
        }
      },
      "cell_type": "code",
      "outputs": [
        {
          "output_type": "stream",
          "name": "stdout",
          "text": [
            "Data source import complete.\n"
          ]
        }
      ],
      "execution_count": 14
    },
    {
      "metadata": {
        "id": "CE6VeerBq1pZ"
      },
      "cell_type": "markdown",
      "source": [
        "# Simple MNIST NN from scratch\n",
        "\n",
        "In this notebook, I implemented a simple two-layer neural network and trained it on the MNIST digit recognizer dataset. It's meant to be an instructional example, through which you can understand the underlying math of neural networks better.\n",
        "\n",
        "Here's a video I made explaining all the math and showing my progress as I coded the network: https://youtu.be/w8yWXqWQYmU"
      ]
    },
    {
      "metadata": {
        "_uuid": "8f2839f25d086af736a60e9eeb907d3b93b6e0e5",
        "_cell_guid": "b1076dfc-b9ad-4769-8c92-a6c4dae69d19",
        "trusted": true,
        "id": "asrGe-vGq1pb"
      },
      "cell_type": "code",
      "source": [
        "import numpy as np\n",
        "import pandas as pd\n",
        "from matplotlib import pyplot as plt\n",
        "\n",
        "data = pd.read_csv('train.csv')"
      ],
      "execution_count": 15,
      "outputs": []
    },
    {
      "metadata": {
        "trusted": true,
        "id": "TPQZz211q1pc"
      },
      "cell_type": "code",
      "source": [
        "data = np.array(data)\n",
        "m, n = data.shape\n",
        "np.random.shuffle(data) # shuffle before splitting into dev and training sets\n",
        "\n",
        "data_dev = data[0:1000].T\n",
        "Y_dev = data_dev[0]\n",
        "X_dev = data_dev[1:n]\n",
        "X_dev = X_dev / 255.\n",
        "\n",
        "data_train = data[1000:m].T\n",
        "Y_train = data_train[0]\n",
        "X_train = data_train[1:n]\n",
        "X_train = X_train / 255.\n",
        "_,m_train = X_train.shape"
      ],
      "execution_count": 16,
      "outputs": []
    },
    {
      "metadata": {
        "trusted": true,
        "id": "Aroag-q1q1pc",
        "outputId": "b0b2da88-05b9-4321-cb3b-e147254df3a9",
        "colab": {
          "base_uri": "https://localhost:8080/"
        }
      },
      "cell_type": "code",
      "source": [
        "Y_train"
      ],
      "execution_count": 17,
      "outputs": [
        {
          "output_type": "execute_result",
          "data": {
            "text/plain": [
              "array([4, 5, 5, ..., 7, 4, 4])"
            ]
          },
          "metadata": {},
          "execution_count": 17
        }
      ]
    },
    {
      "metadata": {
        "id": "LB0zgBbBq1pd"
      },
      "cell_type": "markdown",
      "source": [
        "Our NN will have a simple two-layer architecture. Input layer $a^{[0]}$ will have 784 units corresponding to the 784 pixels in each 28x28 input image. A hidden layer $a^{[1]}$ will have 10 units with ReLU activation, and finally our output layer $a^{[2]}$ will have 10 units corresponding to the ten digit classes with softmax activation.\n",
        "\n",
        "**Forward propagation**\n",
        "\n",
        "$$Z^{[1]} = W^{[1]} X + b^{[1]}$$\n",
        "$$A^{[1]} = g_{\\text{ReLU}}(Z^{[1]}))$$\n",
        "$$Z^{[2]} = W^{[2]} A^{[1]} + b^{[2]}$$\n",
        "$$A^{[2]} = g_{\\text{softmax}}(Z^{[2]})$$\n",
        "\n",
        "**Backward propagation**\n",
        "\n",
        "$$dZ^{[2]} = A^{[2]} - Y$$\n",
        "$$dW^{[2]} = \\frac{1}{m} dZ^{[2]} A^{[1]T}$$\n",
        "$$dB^{[2]} = \\frac{1}{m} \\Sigma {dZ^{[2]}}$$\n",
        "$$dZ^{[1]} = W^{[2]T} dZ^{[2]} .* g^{[1]\\prime} (z^{[1]})$$\n",
        "$$dW^{[1]} = \\frac{1}{m} dZ^{[1]} A^{[0]T}$$\n",
        "$$dB^{[1]} = \\frac{1}{m} \\Sigma {dZ^{[1]}}$$\n",
        "\n",
        "**Parameter updates**\n",
        "\n",
        "$$W^{[2]} := W^{[2]} - \\alpha dW^{[2]}$$\n",
        "$$b^{[2]} := b^{[2]} - \\alpha db^{[2]}$$\n",
        "$$W^{[1]} := W^{[1]} - \\alpha dW^{[1]}$$\n",
        "$$b^{[1]} := b^{[1]} - \\alpha db^{[1]}$$\n",
        "\n",
        "**Vars and shapes**\n",
        "\n",
        "Forward prop\n",
        "\n",
        "- $A^{[0]} = X$: 784 x m\n",
        "- $Z^{[1]} \\sim A^{[1]}$: 10 x m\n",
        "- $W^{[1]}$: 10 x 784 (as $W^{[1]} A^{[0]} \\sim Z^{[1]}$)\n",
        "- $B^{[1]}$: 10 x 1\n",
        "- $Z^{[2]} \\sim A^{[2]}$: 10 x m\n",
        "- $W^{[1]}$: 10 x 10 (as $W^{[2]} A^{[1]} \\sim Z^{[2]}$)\n",
        "- $B^{[2]}$: 10 x 1\n",
        "\n",
        "Backprop\n",
        "\n",
        "- $dZ^{[2]}$: 10 x m ($~A^{[2]}$)\n",
        "- $dW^{[2]}$: 10 x 10\n",
        "- $dB^{[2]}$: 10 x 1\n",
        "- $dZ^{[1]}$: 10 x m ($~A^{[1]}$)\n",
        "- $dW^{[1]}$: 10 x 10\n",
        "- $dB^{[1]}$: 10 x 1"
      ]
    },
    {
      "metadata": {
        "trusted": true,
        "id": "5Pq96yjZq1pe"
      },
      "cell_type": "code",
      "source": [
        "def init_params():\n",
        "    W1 = np.random.rand(10, 784) - 0.5\n",
        "    b1 = np.random.rand(10, 1) - 0.5\n",
        "    W2 = np.random.rand(10, 10) - 0.5\n",
        "    b2 = np.random.rand(10, 1) - 0.5\n",
        "    return W1, b1, W2, b2\n",
        "\n",
        "def ReLU(Z):\n",
        "    return np.maximum(Z, 0)\n",
        "\n",
        "def softmax(Z):\n",
        "    A = np.exp(Z) / sum(np.exp(Z))\n",
        "    return A\n",
        "\n",
        "def forward_prop(W1, b1, W2, b2, X):\n",
        "    Z1 = W1.dot(X) + b1\n",
        "    A1 = ReLU(Z1)\n",
        "    Z2 = W2.dot(A1) + b2\n",
        "    A2 = softmax(Z2)\n",
        "    return Z1, A1, Z2, A2\n",
        "\n",
        "def ReLU_deriv(Z):\n",
        "    return Z > 0\n",
        "\n",
        "def one_hot(Y):\n",
        "    one_hot_Y = np.zeros((Y.size, Y.max() + 1))\n",
        "    one_hot_Y[np.arange(Y.size), Y] = 1\n",
        "    one_hot_Y = one_hot_Y.T\n",
        "    return one_hot_Y\n",
        "\n",
        "def backward_prop(Z1, A1, Z2, A2, W1, W2, X, Y):\n",
        "    one_hot_Y = one_hot(Y)\n",
        "    dZ2 = A2 - one_hot_Y\n",
        "    dW2 = 1 / m * dZ2.dot(A1.T)\n",
        "    db2 = 1 / m * np.sum(dZ2)\n",
        "    dZ1 = W2.T.dot(dZ2) * ReLU_deriv(Z1)\n",
        "    dW1 = 1 / m * dZ1.dot(X.T)\n",
        "    db1 = 1 / m * np.sum(dZ1)\n",
        "    return dW1, db1, dW2, db2\n",
        "\n",
        "def update_params(W1, b1, W2, b2, dW1, db1, dW2, db2, alpha):\n",
        "    W1 = W1 - alpha * dW1\n",
        "    b1 = b1 - alpha * db1\n",
        "    W2 = W2 - alpha * dW2\n",
        "    b2 = b2 - alpha * db2\n",
        "    return W1, b1, W2, b2"
      ],
      "execution_count": 18,
      "outputs": []
    },
    {
      "metadata": {
        "trusted": true,
        "id": "O3_uv7V2q1pf"
      },
      "cell_type": "code",
      "source": [
        "def get_predictions(A2):\n",
        "    return np.argmax(A2, 0)\n",
        "\n",
        "def get_accuracy(predictions, Y):\n",
        "    print(predictions, Y)\n",
        "    return np.sum(predictions == Y) / Y.size\n",
        "\n",
        "def gradient_descent(X, Y, alpha, iterations):\n",
        "    W1, b1, W2, b2 = init_params()\n",
        "    for i in range(iterations):\n",
        "        Z1, A1, Z2, A2 = forward_prop(W1, b1, W2, b2, X)\n",
        "        dW1, db1, dW2, db2 = backward_prop(Z1, A1, Z2, A2, W1, W2, X, Y)\n",
        "        W1, b1, W2, b2 = update_params(W1, b1, W2, b2, dW1, db1, dW2, db2, alpha)\n",
        "        if i % 10 == 0:\n",
        "            print(\"Iteration: \", i)\n",
        "            predictions = get_predictions(A2)\n",
        "            print(get_accuracy(predictions, Y))\n",
        "    return W1, b1, W2, b2"
      ],
      "execution_count": 19,
      "outputs": []
    },
    {
      "metadata": {
        "trusted": true,
        "id": "Hv09ZaBQq1pf",
        "outputId": "649717fa-ba57-4f38-d6fc-a9601b9180c4",
        "colab": {
          "base_uri": "https://localhost:8080/"
        }
      },
      "cell_type": "code",
      "source": [
        "W1, b1, W2, b2 = gradient_descent(X_train, Y_train, 0.10, 1000)"
      ],
      "execution_count": 20,
      "outputs": [
        {
          "output_type": "stream",
          "name": "stdout",
          "text": [
            "Iteration:  0\n",
            "[7 7 7 ... 3 7 7] [4 5 5 ... 7 4 4]\n",
            "0.07602439024390244\n",
            "Iteration:  10\n",
            "[6 7 6 ... 3 9 7] [4 5 5 ... 7 4 4]\n",
            "0.14380487804878048\n",
            "Iteration:  20\n",
            "[8 7 1 ... 3 7 6] [4 5 5 ... 7 4 4]\n",
            "0.23095121951219513\n",
            "Iteration:  30\n",
            "[8 9 1 ... 3 9 9] [4 5 5 ... 7 4 4]\n",
            "0.2947560975609756\n",
            "Iteration:  40\n",
            "[8 9 1 ... 3 9 9] [4 5 5 ... 7 4 4]\n",
            "0.3402926829268293\n",
            "Iteration:  50\n",
            "[8 9 6 ... 3 9 9] [4 5 5 ... 7 4 4]\n",
            "0.38053658536585366\n",
            "Iteration:  60\n",
            "[8 9 6 ... 3 9 4] [4 5 5 ... 7 4 4]\n",
            "0.4306829268292683\n",
            "Iteration:  70\n",
            "[8 9 6 ... 4 9 4] [4 5 5 ... 7 4 4]\n",
            "0.4828292682926829\n",
            "Iteration:  80\n",
            "[8 9 6 ... 7 9 4] [4 5 5 ... 7 4 4]\n",
            "0.5285121951219512\n",
            "Iteration:  90\n",
            "[8 9 6 ... 7 9 4] [4 5 5 ... 7 4 4]\n",
            "0.5645121951219512\n",
            "Iteration:  100\n",
            "[8 9 6 ... 7 9 4] [4 5 5 ... 7 4 4]\n",
            "0.5930487804878048\n",
            "Iteration:  110\n",
            "[8 9 6 ... 7 9 4] [4 5 5 ... 7 4 4]\n",
            "0.6153414634146341\n",
            "Iteration:  120\n",
            "[8 9 6 ... 7 9 4] [4 5 5 ... 7 4 4]\n",
            "0.6355121951219512\n",
            "Iteration:  130\n",
            "[4 9 6 ... 7 9 4] [4 5 5 ... 7 4 4]\n",
            "0.6544634146341464\n",
            "Iteration:  140\n",
            "[4 9 6 ... 7 9 4] [4 5 5 ... 7 4 4]\n",
            "0.6700731707317074\n",
            "Iteration:  150\n",
            "[4 9 6 ... 7 9 4] [4 5 5 ... 7 4 4]\n",
            "0.6825853658536586\n",
            "Iteration:  160\n",
            "[4 9 6 ... 7 9 4] [4 5 5 ... 7 4 4]\n",
            "0.6941463414634146\n",
            "Iteration:  170\n",
            "[4 9 6 ... 7 4 4] [4 5 5 ... 7 4 4]\n",
            "0.7055609756097561\n",
            "Iteration:  180\n",
            "[4 9 6 ... 7 4 4] [4 5 5 ... 7 4 4]\n",
            "0.7161463414634146\n",
            "Iteration:  190\n",
            "[4 9 6 ... 7 4 4] [4 5 5 ... 7 4 4]\n",
            "0.7237560975609756\n",
            "Iteration:  200\n",
            "[4 9 6 ... 7 4 4] [4 5 5 ... 7 4 4]\n",
            "0.7314634146341463\n",
            "Iteration:  210\n",
            "[4 9 6 ... 7 4 4] [4 5 5 ... 7 4 4]\n",
            "0.7395609756097561\n",
            "Iteration:  220\n",
            "[4 9 6 ... 7 4 4] [4 5 5 ... 7 4 4]\n",
            "0.746219512195122\n",
            "Iteration:  230\n",
            "[4 9 6 ... 7 4 4] [4 5 5 ... 7 4 4]\n",
            "0.752\n",
            "Iteration:  240\n",
            "[4 9 6 ... 7 4 4] [4 5 5 ... 7 4 4]\n",
            "0.7574146341463415\n",
            "Iteration:  250\n",
            "[4 9 6 ... 7 4 4] [4 5 5 ... 7 4 4]\n",
            "0.7625121951219512\n",
            "Iteration:  260\n",
            "[4 9 6 ... 7 4 4] [4 5 5 ... 7 4 4]\n",
            "0.7675609756097561\n",
            "Iteration:  270\n",
            "[4 9 6 ... 7 4 4] [4 5 5 ... 7 4 4]\n",
            "0.7722926829268293\n",
            "Iteration:  280\n",
            "[4 9 6 ... 7 4 4] [4 5 5 ... 7 4 4]\n",
            "0.7770487804878049\n",
            "Iteration:  290\n",
            "[4 9 6 ... 7 4 4] [4 5 5 ... 7 4 4]\n",
            "0.7806829268292683\n",
            "Iteration:  300\n",
            "[6 9 6 ... 7 4 4] [4 5 5 ... 7 4 4]\n",
            "0.7846585365853659\n",
            "Iteration:  310\n",
            "[6 9 6 ... 7 4 4] [4 5 5 ... 7 4 4]\n",
            "0.7881463414634147\n",
            "Iteration:  320\n",
            "[6 9 6 ... 7 4 4] [4 5 5 ... 7 4 4]\n",
            "0.7914634146341464\n",
            "Iteration:  330\n",
            "[6 9 6 ... 7 4 4] [4 5 5 ... 7 4 4]\n",
            "0.7950243902439025\n",
            "Iteration:  340\n",
            "[6 9 6 ... 7 4 4] [4 5 5 ... 7 4 4]\n",
            "0.798219512195122\n",
            "Iteration:  350\n",
            "[6 9 6 ... 7 4 4] [4 5 5 ... 7 4 4]\n",
            "0.801439024390244\n",
            "Iteration:  360\n",
            "[6 5 6 ... 7 4 4] [4 5 5 ... 7 4 4]\n",
            "0.8043414634146342\n",
            "Iteration:  370\n",
            "[6 5 6 ... 7 4 4] [4 5 5 ... 7 4 4]\n",
            "0.8074634146341464\n",
            "Iteration:  380\n",
            "[6 5 6 ... 7 4 4] [4 5 5 ... 7 4 4]\n",
            "0.8105365853658537\n",
            "Iteration:  390\n",
            "[6 5 6 ... 7 4 4] [4 5 5 ... 7 4 4]\n",
            "0.8131951219512195\n",
            "Iteration:  400\n",
            "[6 5 6 ... 7 4 4] [4 5 5 ... 7 4 4]\n",
            "0.8158780487804878\n",
            "Iteration:  410\n",
            "[6 5 6 ... 7 4 4] [4 5 5 ... 7 4 4]\n",
            "0.818170731707317\n",
            "Iteration:  420\n",
            "[6 5 6 ... 7 4 4] [4 5 5 ... 7 4 4]\n",
            "0.8204634146341463\n",
            "Iteration:  430\n",
            "[6 5 6 ... 7 4 4] [4 5 5 ... 7 4 4]\n",
            "0.8223170731707317\n",
            "Iteration:  440\n",
            "[6 5 6 ... 7 4 4] [4 5 5 ... 7 4 4]\n",
            "0.8242682926829268\n",
            "Iteration:  450\n",
            "[6 5 6 ... 7 4 4] [4 5 5 ... 7 4 4]\n",
            "0.826\n",
            "Iteration:  460\n",
            "[6 5 6 ... 7 4 4] [4 5 5 ... 7 4 4]\n",
            "0.8277073170731707\n",
            "Iteration:  470\n",
            "[6 5 6 ... 7 4 4] [4 5 5 ... 7 4 4]\n",
            "0.8296829268292683\n",
            "Iteration:  480\n",
            "[6 5 6 ... 7 4 4] [4 5 5 ... 7 4 4]\n",
            "0.831390243902439\n",
            "Iteration:  490\n",
            "[6 5 6 ... 7 4 4] [4 5 5 ... 7 4 4]\n",
            "0.8333414634146341\n",
            "Iteration:  500\n",
            "[6 5 6 ... 7 4 4] [4 5 5 ... 7 4 4]\n",
            "0.8353170731707317\n",
            "Iteration:  510\n",
            "[6 5 6 ... 7 4 4] [4 5 5 ... 7 4 4]\n",
            "0.8367073170731707\n",
            "Iteration:  520\n",
            "[6 5 6 ... 7 4 4] [4 5 5 ... 7 4 4]\n",
            "0.8380975609756097\n",
            "Iteration:  530\n",
            "[6 5 6 ... 7 4 4] [4 5 5 ... 7 4 4]\n",
            "0.8398780487804878\n",
            "Iteration:  540\n",
            "[6 5 6 ... 7 4 4] [4 5 5 ... 7 4 4]\n",
            "0.8416341463414634\n",
            "Iteration:  550\n",
            "[6 5 6 ... 7 4 4] [4 5 5 ... 7 4 4]\n",
            "0.842780487804878\n",
            "Iteration:  560\n",
            "[6 5 6 ... 7 4 4] [4 5 5 ... 7 4 4]\n",
            "0.8438780487804878\n",
            "Iteration:  570\n",
            "[6 5 6 ... 7 4 4] [4 5 5 ... 7 4 4]\n",
            "0.8446341463414634\n",
            "Iteration:  580\n",
            "[6 5 6 ... 7 4 4] [4 5 5 ... 7 4 4]\n",
            "0.8458048780487805\n",
            "Iteration:  590\n",
            "[6 5 6 ... 7 4 4] [4 5 5 ... 7 4 4]\n",
            "0.8472682926829268\n",
            "Iteration:  600\n",
            "[6 5 6 ... 7 4 4] [4 5 5 ... 7 4 4]\n",
            "0.8485609756097561\n",
            "Iteration:  610\n",
            "[6 5 6 ... 7 4 4] [4 5 5 ... 7 4 4]\n",
            "0.8499024390243902\n",
            "Iteration:  620\n",
            "[6 5 6 ... 7 4 4] [4 5 5 ... 7 4 4]\n",
            "0.851\n",
            "Iteration:  630\n",
            "[6 5 6 ... 7 4 4] [4 5 5 ... 7 4 4]\n",
            "0.8521219512195122\n",
            "Iteration:  640\n",
            "[6 5 6 ... 7 4 4] [4 5 5 ... 7 4 4]\n",
            "0.8529268292682927\n",
            "Iteration:  650\n",
            "[6 5 6 ... 7 4 4] [4 5 5 ... 7 4 4]\n",
            "0.8538048780487805\n",
            "Iteration:  660\n",
            "[6 5 3 ... 7 4 4] [4 5 5 ... 7 4 4]\n",
            "0.8544634146341463\n",
            "Iteration:  670\n",
            "[6 5 3 ... 7 4 4] [4 5 5 ... 7 4 4]\n",
            "0.8553658536585366\n",
            "Iteration:  680\n",
            "[6 5 3 ... 7 4 4] [4 5 5 ... 7 4 4]\n",
            "0.8563414634146341\n",
            "Iteration:  690\n",
            "[6 5 3 ... 7 4 4] [4 5 5 ... 7 4 4]\n",
            "0.8570731707317073\n",
            "Iteration:  700\n",
            "[6 5 3 ... 7 4 4] [4 5 5 ... 7 4 4]\n",
            "0.8580975609756097\n",
            "Iteration:  710\n",
            "[6 5 3 ... 7 4 4] [4 5 5 ... 7 4 4]\n",
            "0.8590731707317073\n",
            "Iteration:  720\n",
            "[6 5 3 ... 7 4 4] [4 5 5 ... 7 4 4]\n",
            "0.8598536585365854\n",
            "Iteration:  730\n",
            "[6 5 3 ... 7 4 4] [4 5 5 ... 7 4 4]\n",
            "0.8607073170731707\n",
            "Iteration:  740\n",
            "[6 5 3 ... 7 4 4] [4 5 5 ... 7 4 4]\n",
            "0.8615365853658536\n",
            "Iteration:  750\n",
            "[6 5 3 ... 7 4 4] [4 5 5 ... 7 4 4]\n",
            "0.8624146341463415\n",
            "Iteration:  760\n",
            "[6 5 3 ... 7 4 4] [4 5 5 ... 7 4 4]\n",
            "0.8631219512195122\n",
            "Iteration:  770\n",
            "[6 5 3 ... 7 4 4] [4 5 5 ... 7 4 4]\n",
            "0.8639756097560976\n",
            "Iteration:  780\n",
            "[6 5 3 ... 7 4 4] [4 5 5 ... 7 4 4]\n",
            "0.8646585365853658\n",
            "Iteration:  790\n",
            "[6 5 3 ... 7 4 4] [4 5 5 ... 7 4 4]\n",
            "0.8655365853658537\n",
            "Iteration:  800\n",
            "[6 5 3 ... 7 4 4] [4 5 5 ... 7 4 4]\n",
            "0.8660243902439024\n",
            "Iteration:  810\n",
            "[6 5 3 ... 7 4 4] [4 5 5 ... 7 4 4]\n",
            "0.8667073170731707\n",
            "Iteration:  820\n",
            "[6 5 3 ... 7 4 4] [4 5 5 ... 7 4 4]\n",
            "0.8672195121951219\n",
            "Iteration:  830\n",
            "[6 5 3 ... 7 4 4] [4 5 5 ... 7 4 4]\n",
            "0.8678536585365854\n",
            "Iteration:  840\n",
            "[6 5 3 ... 7 4 4] [4 5 5 ... 7 4 4]\n",
            "0.8684390243902439\n",
            "Iteration:  850\n",
            "[6 5 3 ... 7 4 4] [4 5 5 ... 7 4 4]\n",
            "0.8690975609756098\n",
            "Iteration:  860\n",
            "[6 5 3 ... 7 4 4] [4 5 5 ... 7 4 4]\n",
            "0.8696829268292683\n",
            "Iteration:  870\n",
            "[6 5 3 ... 7 4 4] [4 5 5 ... 7 4 4]\n",
            "0.8701951219512195\n",
            "Iteration:  880\n",
            "[6 5 3 ... 7 4 4] [4 5 5 ... 7 4 4]\n",
            "0.8708292682926829\n",
            "Iteration:  890\n",
            "[6 5 3 ... 7 4 4] [4 5 5 ... 7 4 4]\n",
            "0.8715609756097561\n",
            "Iteration:  900\n",
            "[6 5 3 ... 7 4 4] [4 5 5 ... 7 4 4]\n",
            "0.8720243902439024\n",
            "Iteration:  910\n",
            "[6 5 3 ... 7 4 4] [4 5 5 ... 7 4 4]\n",
            "0.8726829268292683\n",
            "Iteration:  920\n",
            "[6 5 3 ... 7 4 4] [4 5 5 ... 7 4 4]\n",
            "0.8732682926829268\n",
            "Iteration:  930\n",
            "[6 5 3 ... 7 4 4] [4 5 5 ... 7 4 4]\n",
            "0.8738780487804878\n",
            "Iteration:  940\n",
            "[6 5 3 ... 7 4 4] [4 5 5 ... 7 4 4]\n",
            "0.8746341463414634\n",
            "Iteration:  950\n",
            "[6 5 3 ... 7 4 4] [4 5 5 ... 7 4 4]\n",
            "0.8751219512195122\n",
            "Iteration:  960\n",
            "[6 5 3 ... 7 4 4] [4 5 5 ... 7 4 4]\n",
            "0.8755853658536585\n",
            "Iteration:  970\n",
            "[6 5 3 ... 7 4 4] [4 5 5 ... 7 4 4]\n",
            "0.8759512195121951\n",
            "Iteration:  980\n",
            "[6 5 3 ... 7 4 4] [4 5 5 ... 7 4 4]\n",
            "0.8764878048780488\n",
            "Iteration:  990\n",
            "[6 5 3 ... 7 4 4] [4 5 5 ... 7 4 4]\n",
            "0.8770487804878049\n"
          ]
        }
      ]
    },
    {
      "metadata": {
        "id": "zpkrmKRbq1pg"
      },
      "cell_type": "markdown",
      "source": [
        "~87% accuracy on training set."
      ]
    },
    {
      "metadata": {
        "trusted": true,
        "id": "H4P5NEAmq1pg"
      },
      "cell_type": "code",
      "source": [
        "def make_predictions(X, W1, b1, W2, b2):\n",
        "    _, _, _, A2 = forward_prop(W1, b1, W2, b2, X)\n",
        "    predictions = get_predictions(A2)\n",
        "    return predictions\n",
        "\n",
        "def test_prediction(index, W1, b1, W2, b2):\n",
        "    current_image = X_train[:, index, None]\n",
        "    prediction = make_predictions(X_train[:, index, None], W1, b1, W2, b2)\n",
        "    label = Y_train[index]\n",
        "    print(\"Prediction: \", prediction)\n",
        "    print(\"Label: \", label)\n",
        "\n",
        "    current_image = current_image.reshape((28, 28)) * 255\n",
        "    plt.gray()\n",
        "    plt.imshow(current_image, interpolation='nearest')\n",
        "    plt.show()"
      ],
      "execution_count": 21,
      "outputs": []
    },
    {
      "metadata": {
        "id": "5NxVjWsVq1ph"
      },
      "cell_type": "markdown",
      "source": [
        "Let's look at a couple of examples:"
      ]
    },
    {
      "metadata": {
        "trusted": true,
        "id": "3tOEzx0yq1ph",
        "outputId": "8062f02f-c41d-448d-a0cc-1f467a8fcb03",
        "colab": {
          "base_uri": "https://localhost:8080/",
          "height": 1000
        }
      },
      "cell_type": "code",
      "source": [
        "test_prediction(50, W1, b1, W2, b2)\n",
        "test_prediction(30, W1, b1, W2, b2)\n",
        "test_prediction(10, W1, b1, W2, b2)\n",
        "test_prediction(9, W1, b1, W2, b2)"
      ],
      "execution_count": 24,
      "outputs": [
        {
          "output_type": "stream",
          "name": "stdout",
          "text": [
            "Prediction:  [8]\n",
            "Label:  8\n"
          ]
        },
        {
          "output_type": "display_data",
          "data": {
            "text/plain": [
              "<Figure size 640x480 with 1 Axes>"
            ],
            "image/png": "[encoded data removed]"
          },
          "metadata": {}
        },
        {
          "output_type": "stream",
          "name": "stdout",
          "text": [
            "Prediction:  [7]\n",
            "Label:  7\n"
          ]
        },
        {
          "output_type": "display_data",
          "data": {
            "text/plain": [
              "<Figure size 640x480 with 1 Axes>"
            ],
            "image/png": "[encoded data removed]"
          },
          "metadata": {}
        },
        {
          "output_type": "stream",
          "name": "stdout",
          "text": [
            "Prediction:  [9]\n",
            "Label:  9\n"
          ]
        },
        {
          "output_type": "display_data",
          "data": {
            "text/plain": [
              "<Figure size 640x480 with 1 Axes>"
            ],
            "image/png": "[encoded data removed]"
          },
          "metadata": {}
        },
        {
          "output_type": "stream",
          "name": "stdout",
          "text": [
            "Prediction:  [0]\n",
            "Label:  0\n"
          ]
        },
        {
          "output_type": "display_data",
          "data": {
            "text/plain": [
              "<Figure size 640x480 with 1 Axes>"
            ],
            "image/png": "[encoded data removed]"
          },
          "metadata": {}
        }
      ]
    },
    {
      "metadata": {
        "id": "An4yQlFZq1pi"
      },
      "cell_type": "markdown",
      "source": [
        "Finally, let's find the accuracy on the dev set:"
      ]
    },
    {
      "metadata": {
        "trusted": true,
        "id": "Llk9xoypq1pi",
        "outputId": "a3cb86db-9f0e-4f87-adc7-712dbed562e3",
        "colab": {
          "base_uri": "https://localhost:8080/"
        }
      },
      "cell_type": "code",
      "source": [
        "dev_predictions = make_predictions(X_dev, W1, b1, W2, b2)\n",
        "get_accuracy(dev_predictions, Y_dev)"
      ],
      "execution_count": 23,
      "outputs": [
        {
          "output_type": "stream",
          "name": "stdout",
          "text": [
            "[7 6 3 3 8 2 6 7 4 1 5 1 6 9 8 2 1 9 2 6 6 2 7 7 4 7 6 7 9 6 4 4 5 6 8 1 4\n",
            " 9 9 2 2 3 4 2 9 0 0 7 4 1 2 1 9 8 1 5 1 1 1 6 1 7 5 5 7 0 6 1 3 7 7 4 1 1\n",
            " 9 9 9 7 3 5 2 5 2 1 3 1 1 2 3 8 0 9 9 7 5 8 4 8 5 0 0 0 9 9 4 6 2 7 2 6 1\n",
            " 3 1 6 7 1 6 8 9 9 2 1 4 6 3 6 3 2 6 3 2 9 9 2 1 6 8 6 6 2 6 8 1 4 6 2 0 8\n",
            " 6 7 7 3 9 7 0 0 3 3 5 4 2 4 7 8 0 5 8 3 3 7 9 2 4 1 0 7 1 3 3 5 2 2 9 6 9\n",
            " 2 9 7 6 1 9 5 1 7 5 5 7 4 2 4 6 9 2 9 8 9 4 4 0 7 7 5 2 0 1 5 2 8 4 1 9 9\n",
            " 4 1 0 5 2 0 4 1 3 0 4 9 0 1 7 2 1 0 9 8 7 3 5 6 2 7 0 8 1 7 6 6 0 4 4 0 7\n",
            " 5 4 1 9 4 9 8 9 6 8 8 1 9 4 9 7 8 1 0 3 6 7 5 8 3 0 6 2 6 1 1 5 6 6 2 5 7\n",
            " 2 5 6 5 9 3 8 8 4 1 1 4 6 1 3 2 8 5 5 4 9 8 2 7 6 5 3 9 9 7 3 3 0 9 5 4 4\n",
            " 9 4 4 0 6 8 8 5 5 6 3 0 2 7 7 5 7 9 4 1 2 0 7 8 4 4 5 9 2 2 5 8 1 9 0 2 4\n",
            " 1 1 8 3 7 6 2 7 8 3 6 4 9 6 7 5 2 9 1 4 2 3 1 4 8 1 8 3 8 0 8 7 5 0 1 9 4\n",
            " 7 5 6 1 2 1 9 9 1 7 1 1 1 5 6 7 6 0 7 6 7 4 9 8 8 9 5 7 3 1 5 1 2 9 8 0 7\n",
            " 5 4 6 7 2 4 2 5 0 7 1 7 9 7 4 3 2 3 4 4 5 1 6 5 7 1 8 6 9 8 1 1 0 5 7 9 5\n",
            " 1 4 8 0 5 8 6 3 4 5 7 4 0 0 8 3 8 7 9 5 5 0 1 1 2 0 1 8 3 9 2 0 7 2 2 0 1\n",
            " 6 1 9 2 8 4 8 5 0 0 3 4 2 6 3 1 0 3 9 7 5 1 2 8 9 4 8 3 3 3 9 0 3 7 3 7 0\n",
            " 4 7 2 0 1 3 6 2 8 1 4 6 3 7 7 8 4 9 0 4 7 6 6 6 3 7 6 1 1 5 5 4 2 7 7 3 0\n",
            " 0 0 1 8 8 8 2 5 4 2 1 7 2 1 5 4 4 0 7 8 6 3 6 2 1 1 1 8 2 1 2 9 4 2 9 5 1\n",
            " 0 9 4 9 1 6 8 3 8 1 9 3 6 0 3 5 3 9 9 2 9 9 4 6 3 5 7 1 3 4 3 8 9 6 3 6 3\n",
            " 3 5 6 0 0 7 2 6 1 1 2 1 9 0 9 3 4 7 8 0 7 5 1 9 2 6 6 2 1 9 6 5 9 3 8 4 9\n",
            " 1 4 7 0 1 1 6 6 8 8 3 3 2 4 4 9 0 8 6 6 4 0 9 9 4 8 1 6 3 0 2 3 0 4 1 0 0\n",
            " 9 0 9 8 5 1 1 6 4 0 7 7 4 8 1 3 8 8 6 2 9 3 8 5 3 8 5 0 1 6 7 0 4 9 7 4 4\n",
            " 3 6 2 1 6 0 2 0 7 1 4 0 3 8 7 3 7 6 4 3 2 8 8 2 5 8 3 6 7 4 2 1 2 7 6 6 8\n",
            " 7 9 4 2 8 4 7 7 2 5 0 0 1 6 1 6 4 8 3 2 7 5 2 5 7 8 6 1 4 6 1 9 0 5 9 6 4\n",
            " 7 1 7 0 1 6 0 2 3 8 4 6 3 9 4 4 1 4 1 7 8 4 6 0 7 3 0 0 1 8 3 3 7 8 1 1 3\n",
            " 3 9 2 4 7 9 7 0 2 3 2 7 3 0 9 1 9 8 1 1 5 0 9 0 0 5 5 5 0 7 8 1 4 7 3 9 7\n",
            " 3 0 1 9 1 0 4 1 0 3 7 8 8 0 1 0 7 2 2 7 4 4 2 3 6 1 7 4 6 2 6 5 7 8 2 4 2\n",
            " 6 2 8 2 5 2 2 9 4 2 2 5 7 7 1 7 7 8 9 4 0 7 5 1 7 4 5 4 4 9 1 0 1 5 6 3 2\n",
            " 4] [7 6 3 3 8 2 6 7 4 1 5 3 2 9 8 5 7 8 2 5 6 2 7 7 4 7 6 7 7 6 4 4 5 6 8 1 4\n",
            " 9 9 2 2 3 4 2 9 0 0 7 4 1 4 1 9 9 1 5 1 1 1 6 1 7 5 9 7 0 6 1 3 7 7 7 1 1\n",
            " 9 9 9 7 3 5 2 2 2 1 3 1 1 2 3 8 0 9 9 7 8 5 4 8 5 0 0 0 9 7 2 6 5 7 2 6 1\n",
            " 3 1 6 7 1 6 8 9 9 2 1 4 2 3 6 3 2 6 9 2 9 9 2 1 6 8 6 6 2 6 8 1 4 6 2 0 8\n",
            " 6 7 7 2 9 7 0 0 3 8 5 4 3 4 7 8 0 5 8 3 3 7 9 2 4 1 0 7 1 3 3 5 3 2 9 6 9\n",
            " 2 4 7 6 1 9 2 1 7 5 5 7 4 2 4 2 9 2 9 8 9 4 4 0 7 7 5 2 0 1 5 2 2 4 1 9 9\n",
            " 4 1 0 0 2 0 4 1 3 0 4 9 0 1 7 2 1 0 3 8 7 3 5 6 2 7 0 5 1 7 6 6 0 5 4 0 7\n",
            " 5 4 1 9 4 9 8 9 6 8 8 8 9 9 7 7 4 1 5 3 6 7 5 1 2 0 6 2 5 1 1 5 6 5 2 5 7\n",
            " 2 3 6 5 9 3 8 5 4 1 1 4 6 1 3 2 8 5 5 4 9 8 3 7 6 6 3 9 7 7 3 3 0 9 5 4 4\n",
            " 9 4 4 0 6 8 8 5 5 6 3 0 2 7 7 5 7 9 4 1 2 0 7 8 4 4 5 9 2 2 5 8 1 5 0 2 7\n",
            " 1 1 8 3 7 6 2 7 8 3 6 4 9 6 7 5 2 9 1 4 2 3 1 4 8 1 8 3 3 0 8 7 5 0 1 9 4\n",
            " 7 5 5 1 2 1 9 9 1 7 1 1 1 5 6 7 6 0 7 6 7 4 4 9 8 9 8 7 3 1 5 1 6 9 8 0 7\n",
            " 5 4 6 7 2 4 2 5 3 7 1 9 9 7 4 3 2 3 4 4 5 1 6 5 7 2 8 0 9 3 1 1 0 0 7 9 5\n",
            " 1 4 8 0 5 8 6 3 4 5 7 4 0 6 8 3 8 7 9 5 5 0 1 1 6 2 1 8 5 9 2 0 7 2 2 0 3\n",
            " 6 5 9 2 8 4 8 3 0 0 3 4 2 6 3 1 0 5 9 7 5 1 2 8 9 4 8 3 3 3 7 0 3 9 3 7 0\n",
            " 4 7 3 0 1 3 6 2 8 1 9 6 3 7 7 8 4 9 0 4 7 6 5 6 2 7 6 7 1 5 5 4 2 7 7 3 0\n",
            " 0 0 1 5 8 1 2 6 4 2 1 7 2 1 5 4 4 0 7 8 6 3 6 2 7 5 1 8 2 1 2 9 4 2 9 5 1\n",
            " 0 4 4 9 1 6 8 3 8 1 9 3 6 0 3 5 3 9 9 2 9 9 4 6 5 5 7 1 3 4 3 8 9 6 3 6 3\n",
            " 5 5 8 0 0 7 2 6 1 1 2 1 9 0 3 3 4 7 8 0 7 5 1 9 2 6 6 2 1 9 6 5 9 3 8 4 9\n",
            " 1 4 7 0 1 1 6 4 2 8 3 3 2 4 4 5 0 8 6 6 4 0 9 4 4 8 1 6 8 0 2 3 0 4 1 0 7\n",
            " 4 0 9 8 5 1 1 6 4 0 7 7 4 8 1 3 8 8 3 2 9 3 8 5 3 8 8 0 1 6 7 0 4 9 7 9 4\n",
            " 3 6 2 1 6 0 2 0 7 1 4 0 3 5 7 3 7 6 4 3 1 3 8 2 9 8 3 6 7 6 3 1 3 7 6 6 8\n",
            " 7 9 9 2 8 4 7 7 2 5 0 0 1 6 1 6 4 8 3 2 7 3 2 5 7 8 6 1 4 6 1 9 0 3 9 6 4\n",
            " 7 1 7 0 1 6 0 2 3 5 4 6 3 9 4 9 1 4 1 7 8 4 6 0 7 3 0 0 2 0 3 3 7 8 1 1 3\n",
            " 3 3 2 4 7 8 7 0 2 3 2 7 3 0 3 1 9 9 1 1 5 0 4 0 0 8 5 8 0 7 8 1 4 7 3 9 7\n",
            " 3 0 1 9 1 0 4 1 0 3 7 5 8 0 1 0 7 2 2 7 4 4 2 3 6 1 7 4 6 2 6 5 7 8 5 4 2\n",
            " 6 2 8 2 5 2 2 9 4 2 2 5 7 7 1 7 7 8 9 4 0 7 5 1 7 7 5 4 9 9 1 0 1 5 6 3 2\n",
            " 4]\n"
          ]
        },
        {
          "output_type": "execute_result",
          "data": {
            "text/plain": [
              "np.float64(0.881)"
            ]
          },
          "metadata": {},
          "execution_count": 23
        }
      ]
    },
    {
      "metadata": {
        "id": "FOarJVxaq1pi"
      },
      "cell_type": "markdown",
      "source": [
        "Still 88% accuracy, so our model generalized from the training data pretty well."
      ]
    }
  ],
  "metadata": {
    "kernelspec": {
      "language": "python",
      "display_name": "Python 3",
      "name": "python3"
    },
    "language_info": {
      "pygments_lexer": "ipython3",
      "nbconvert_exporter": "python",
      "version": "3.6.4",
      "file_extension": ".py",
      "codemirror_mode": {
        "name": "ipython",
        "version": 3
      },
      "name": "python",
      "mimetype": "text/x-python"
    },
    "colab": {
      "name": "Simple MNIST NN from scratch (numpy, no TF/Keras)",
      "provenance": []
    },
    "widgets": {
      "application/vnd.jupyter.widget-state+json": {
        "9673e3d9a6b8468a86caba33c1cb01d1": {
          "model_module": "@jupyter-widgets/controls",
          "model_name": "VBoxModel",
          "model_module_version": "1.5.0",
          "state": {
            "_dom_classes": [],
            "_model_module": "@jupyter-widgets/controls",
            "_model_module_version": "1.5.0",
            "_model_name": "VBoxModel",
            "_view_count": null,
            "_view_module": "@jupyter-widgets/controls",
            "_view_module_version": "1.5.0",
            "_view_name": "VBoxView",
            "box_style": "",
            "children": [
              "IPY_MODEL_4a11ccace44a429983f14ff20a1c0e61",
              "IPY_MODEL_6d9b043aa8234167baeede07f7979bf0",
              "IPY_MODEL_e83b99f128e541aa9667ed8786aec13e",
              "IPY_MODEL_ef11f4c53b7246e3b0781884cda5600b",
              "IPY_MODEL_222ab00b55a04746a1089d2c4ad517ff"
            ],
            "layout": "IPY_MODEL_4369bb0e41d546659f02913cd914c725"
          }
        },
        "4a11ccace44a429983f14ff20a1c0e61": {
          "model_module": "@jupyter-widgets/controls",
          "model_name": "HTMLModel",
          "model_module_version": "1.5.0",
          "state": {
            "_dom_classes": [],
            "_model_module": "@jupyter-widgets/controls",
            "_model_module_version": "1.5.0",
            "_model_name": "HTMLModel",
            "_view_count": null,
            "_view_module": "@jupyter-widgets/controls",
            "_view_module_version": "1.5.0",
            "_view_name": "HTMLView",
            "description": "",
            "description_tooltip": null,
            "layout": "IPY_MODEL_62d72315d77c445baf31a5216931382c",
            "placeholder": "​",
            "style": "IPY_MODEL_73ef756c9e564e5f831899af57801957",
            "value": "<center> <img\nsrc=https://www.kaggle.com/static/images/site-logo.png\nalt='Kaggle'> <br> Create an API token from <a\nhref=\"https://www.kaggle.com/settings/account\" target=\"_blank\">your Kaggle\nsettings page</a> and paste it below along with your Kaggle username. <br> </center>"
          }
        },
        "6d9b043aa8234167baeede07f7979bf0": {
          "model_module": "@jupyter-widgets/controls",
          "model_name": "TextModel",
          "model_module_version": "1.5.0",
          "state": {
            "_dom_classes": [],
            "_model_module": "@jupyter-widgets/controls",
            "_model_module_version": "1.5.0",
            "_model_name": "TextModel",
            "_view_count": null,
            "_view_module": "@jupyter-widgets/controls",
            "_view_module_version": "1.5.0",
            "_view_name": "TextView",
            "continuous_update": true,
            "description": "Username:",
            "description_tooltip": null,
            "disabled": false,
            "layout": "IPY_MODEL_3d425a93284f4fb2bbf2cb1c31d68978",
            "placeholder": "​",
            "style": "IPY_MODEL_9e8bfb5060dd4af1bbc36c81a47b2a45",
            "value": ""
          }
        },
        "e83b99f128e541aa9667ed8786aec13e": {
          "model_module": "@jupyter-widgets/controls",
          "model_name": "PasswordModel",
          "model_module_version": "1.5.0",
          "state": {
            "_dom_classes": [],
            "_model_module": "@jupyter-widgets/controls",
            "_model_module_version": "1.5.0",
            "_model_name": "PasswordModel",
            "_view_count": null,
            "_view_module": "@jupyter-widgets/controls",
            "_view_module_version": "1.5.0",
            "_view_name": "PasswordView",
            "continuous_update": true,
            "description": "Token:",
            "description_tooltip": null,
            "disabled": false,
            "layout": "IPY_MODEL_35a93052e47a46758d45212f08064606",
            "placeholder": "​",
            "style": "IPY_MODEL_1234e711ad4049ab8d06f1523b6e80c7",
            "value": ""
          }
        },
        "ef11f4c53b7246e3b0781884cda5600b": {
          "model_module": "@jupyter-widgets/controls",
          "model_name": "ButtonModel",
          "model_module_version": "1.5.0",
          "state": {
            "_dom_classes": [],
            "_model_module": "@jupyter-widgets/controls",
            "_model_module_version": "1.5.0",
            "_model_name": "ButtonModel",
            "_view_count": null,
            "_view_module": "@jupyter-widgets/controls",
            "_view_module_version": "1.5.0",
            "_view_name": "ButtonView",
            "button_style": "",
            "description": "Login",
            "disabled": false,
            "icon": "",
            "layout": "IPY_MODEL_c84590ff22694b83bca5117a720875d8",
            "style": "IPY_MODEL_05aeae4a8c694d4eaf08f9109c960c96",
            "tooltip": ""
          }
        },
        "222ab00b55a04746a1089d2c4ad517ff": {
          "model_module": "@jupyter-widgets/controls",
          "model_name": "HTMLModel",
          "model_module_version": "1.5.0",
          "state": {
            "_dom_classes": [],
            "_model_module": "@jupyter-widgets/controls",
            "_model_module_version": "1.5.0",
            "_model_name": "HTMLModel",
            "_view_count": null,
            "_view_module": "@jupyter-widgets/controls",
            "_view_module_version": "1.5.0",
            "_view_name": "HTMLView",
            "description": "",
            "description_tooltip": null,
            "layout": "IPY_MODEL_68c717a8937e488d9e66f3991fcf307f",
            "placeholder": "​",
            "style": "IPY_MODEL_9e613292106b431bbbe7601c9e5fef3e",
            "value": "\n<b>Thank You</b></center>"
          }
        },
        "4369bb0e41d546659f02913cd914c725": {
          "model_module": "@jupyter-widgets/base",
          "model_name": "LayoutModel",
          "model_module_version": "1.2.0",
          "state": {
            "_model_module": "@jupyter-widgets/base",
            "_model_module_version": "1.2.0",
            "_model_name": "LayoutModel",
            "_view_count": null,
            "_view_module": "@jupyter-widgets/base",
            "_view_module_version": "1.2.0",
            "_view_name": "LayoutView",
            "align_content": null,
            "align_items": "center",
            "align_self": null,
            "border": null,
            "bottom": null,
            "display": "flex",
            "flex": null,
            "flex_flow": "column",
            "grid_area": null,
            "grid_auto_columns": null,
            "grid_auto_flow": null,
            "grid_auto_rows": null,
            "grid_column": null,
            "grid_gap": null,
            "grid_row": null,
            "grid_template_areas": null,
            "grid_template_columns": null,
            "grid_template_rows": null,
            "height": null,
            "justify_content": null,
            "justify_items": null,
            "left": null,
            "margin": null,
            "max_height": null,
            "max_width": null,
            "min_height": null,
            "min_width": null,
            "object_fit": null,
            "object_position": null,
            "order": null,
            "overflow": null,
            "overflow_x": null,
            "overflow_y": null,
            "padding": null,
            "right": null,
            "top": null,
            "visibility": null,
            "width": "50%"
          }
        },
        "62d72315d77c445baf31a5216931382c": {
          "model_module": "@jupyter-widgets/base",
          "model_name": "LayoutModel",
          "model_module_version": "1.2.0",
          "state": {
            "_model_module": "@jupyter-widgets/base",
            "_model_module_version": "1.2.0",
            "_model_name": "LayoutModel",
            "_view_count": null,
            "_view_module": "@jupyter-widgets/base",
            "_view_module_version": "1.2.0",
            "_view_name": "LayoutView",
            "align_content": null,
            "align_items": null,
            "align_self": null,
            "border": null,
            "bottom": null,
            "display": null,
            "flex": null,
            "flex_flow": null,
            "grid_area": null,
            "grid_auto_columns": null,
            "grid_auto_flow": null,
            "grid_auto_rows": null,
            "grid_column": null,
            "grid_gap": null,
            "grid_row": null,
            "grid_template_areas": null,
            "grid_template_columns": null,
            "grid_template_rows": null,
            "height": null,
            "justify_content": null,
            "justify_items": null,
            "left": null,
            "margin": null,
            "max_height": null,
            "max_width": null,
            "min_height": null,
            "min_width": null,
            "object_fit": null,
            "object_position": null,
            "order": null,
            "overflow": null,
            "overflow_x": null,
            "overflow_y": null,
            "padding": null,
            "right": null,
            "top": null,
            "visibility": null,
            "width": null
          }
        },
        "73ef756c9e564e5f831899af57801957": {
          "model_module": "@jupyter-widgets/controls",
          "model_name": "DescriptionStyleModel",
          "model_module_version": "1.5.0",
          "state": {
            "_model_module": "@jupyter-widgets/controls",
            "_model_module_version": "1.5.0",
            "_model_name": "DescriptionStyleModel",
            "_view_count": null,
            "_view_module": "@jupyter-widgets/base",
            "_view_module_version": "1.2.0",
            "_view_name": "StyleView",
            "description_width": ""
          }
        },
        "3d425a93284f4fb2bbf2cb1c31d68978": {
          "model_module": "@jupyter-widgets/base",
          "model_name": "LayoutModel",
          "model_module_version": "1.2.0",
          "state": {
            "_model_module": "@jupyter-widgets/base",
            "_model_module_version": "1.2.0",
            "_model_name": "LayoutModel",
            "_view_count": null,
            "_view_module": "@jupyter-widgets/base",
            "_view_module_version": "1.2.0",
            "_view_name": "LayoutView",
            "align_content": null,
            "align_items": null,
            "align_self": null,
            "border": null,
            "bottom": null,
            "display": null,
            "flex": null,
            "flex_flow": null,
            "grid_area": null,
            "grid_auto_columns": null,
            "grid_auto_flow": null,
            "grid_auto_rows": null,
            "grid_column": null,
            "grid_gap": null,
            "grid_row": null,
            "grid_template_areas": null,
            "grid_template_columns": null,
            "grid_template_rows": null,
            "height": null,
            "justify_content": null,
            "justify_items": null,
            "left": null,
            "margin": null,
            "max_height": null,
            "max_width": null,
            "min_height": null,
            "min_width": null,
            "object_fit": null,
            "object_position": null,
            "order": null,
            "overflow": null,
            "overflow_x": null,
            "overflow_y": null,
            "padding": null,
            "right": null,
            "top": null,
            "visibility": null,
            "width": null
          }
        },
        "9e8bfb5060dd4af1bbc36c81a47b2a45": {
          "model_module": "@jupyter-widgets/controls",
          "model_name": "DescriptionStyleModel",
          "model_module_version": "1.5.0",
          "state": {
            "_model_module": "@jupyter-widgets/controls",
            "_model_module_version": "1.5.0",
            "_model_name": "DescriptionStyleModel",
            "_view_count": null,
            "_view_module": "@jupyter-widgets/base",
            "_view_module_version": "1.2.0",
            "_view_name": "StyleView",
            "description_width": ""
          }
        },
        "35a93052e47a46758d45212f08064606": {
          "model_module": "@jupyter-widgets/base",
          "model_name": "LayoutModel",
          "model_module_version": "1.2.0",
          "state": {
            "_model_module": "@jupyter-widgets/base",
            "_model_module_version": "1.2.0",
            "_model_name": "LayoutModel",
            "_view_count": null,
            "_view_module": "@jupyter-widgets/base",
            "_view_module_version": "1.2.0",
            "_view_name": "LayoutView",
            "align_content": null,
            "align_items": null,
            "align_self": null,
            "border": null,
            "bottom": null,
            "display": null,
            "flex": null,
            "flex_flow": null,
            "grid_area": null,
            "grid_auto_columns": null,
            "grid_auto_flow": null,
            "grid_auto_rows": null,
            "grid_column": null,
            "grid_gap": null,
            "grid_row": null,
            "grid_template_areas": null,
            "grid_template_columns": null,
            "grid_template_rows": null,
            "height": null,
            "justify_content": null,
            "justify_items": null,
            "left": null,
            "margin": null,
            "max_height": null,
            "max_width": null,
            "min_height": null,
            "min_width": null,
            "object_fit": null,
            "object_position": null,
            "order": null,
            "overflow": null,
            "overflow_x": null,
            "overflow_y": null,
            "padding": null,
            "right": null,
            "top": null,
            "visibility": null,
            "width": null
          }
        },
        "1234e711ad4049ab8d06f1523b6e80c7": {
          "model_module": "@jupyter-widgets/controls",
          "model_name": "DescriptionStyleModel",
          "model_module_version": "1.5.0",
          "state": {
            "_model_module": "@jupyter-widgets/controls",
            "_model_module_version": "1.5.0",
            "_model_name": "DescriptionStyleModel",
            "_view_count": null,
            "_view_module": "@jupyter-widgets/base",
            "_view_module_version": "1.2.0",
            "_view_name": "StyleView",
            "description_width": ""
          }
        },
        "c84590ff22694b83bca5117a720875d8": {
          "model_module": "@jupyter-widgets/base",
          "model_name": "LayoutModel",
          "model_module_version": "1.2.0",
          "state": {
            "_model_module": "@jupyter-widgets/base",
            "_model_module_version": "1.2.0",
            "_model_name": "LayoutModel",
            "_view_count": null,
            "_view_module": "@jupyter-widgets/base",
            "_view_module_version": "1.2.0",
            "_view_name": "LayoutView",
            "align_content": null,
            "align_items": null,
            "align_self": null,
            "border": null,
            "bottom": null,
            "display": null,
            "flex": null,
            "flex_flow": null,
            "grid_area": null,
            "grid_auto_columns": null,
            "grid_auto_flow": null,
            "grid_auto_rows": null,
            "grid_column": null,
            "grid_gap": null,
            "grid_row": null,
            "grid_template_areas": null,
            "grid_template_columns": null,
            "grid_template_rows": null,
            "height": null,
            "justify_content": null,
            "justify_items": null,
            "left": null,
            "margin": null,
            "max_height": null,
            "max_width": null,
            "min_height": null,
            "min_width": null,
            "object_fit": null,
            "object_position": null,
            "order": null,
            "overflow": null,
            "overflow_x": null,
            "overflow_y": null,
            "padding": null,
            "right": null,
            "top": null,
            "visibility": null,
            "width": null
          }
        },
        "05aeae4a8c694d4eaf08f9109c960c96": {
          "model_module": "@jupyter-widgets/controls",
          "model_name": "ButtonStyleModel",
          "model_module_version": "1.5.0",
          "state": {
            "_model_module": "@jupyter-widgets/controls",
            "_model_module_version": "1.5.0",
            "_model_name": "ButtonStyleModel",
            "_view_count": null,
            "_view_module": "@jupyter-widgets/base",
            "_view_module_version": "1.2.0",
            "_view_name": "StyleView",
            "button_color": null,
            "font_weight": ""
          }
        },
        "68c717a8937e488d9e66f3991fcf307f": {
          "model_module": "@jupyter-widgets/base",
          "model_name": "LayoutModel",
          "model_module_version": "1.2.0",
          "state": {
            "_model_module": "@jupyter-widgets/base",
            "_model_module_version": "1.2.0",
            "_model_name": "LayoutModel",
            "_view_count": null,
            "_view_module": "@jupyter-widgets/base",
            "_view_module_version": "1.2.0",
            "_view_name": "LayoutView",
            "align_content": null,
            "align_items": null,
            "align_self": null,
            "border": null,
            "bottom": null,
            "display": null,
            "flex": null,
            "flex_flow": null,
            "grid_area": null,
            "grid_auto_columns": null,
            "grid_auto_flow": null,
            "grid_auto_rows": null,
            "grid_column": null,
            "grid_gap": null,
            "grid_row": null,
            "grid_template_areas": null,
            "grid_template_columns": null,
            "grid_template_rows": null,
            "height": null,
            "justify_content": null,
            "justify_items": null,
            "left": null,
            "margin": null,
            "max_height": null,
            "max_width": null,
            "min_height": null,
            "min_width": null,
            "object_fit": null,
            "object_position": null,
            "order": null,
            "overflow": null,
            "overflow_x": null,
            "overflow_y": null,
            "padding": null,
            "right": null,
            "top": null,
            "visibility": null,
            "width": null
          }
        },
        "9e613292106b431bbbe7601c9e5fef3e": {
          "model_module": "@jupyter-widgets/controls",
          "model_name": "DescriptionStyleModel",
          "model_module_version": "1.5.0",
          "state": {
            "_model_module": "@jupyter-widgets/controls",
            "_model_module_version": "1.5.0",
            "_model_name": "DescriptionStyleModel",
            "_view_count": null,
            "_view_module": "@jupyter-widgets/base",
            "_view_module_version": "1.2.0",
            "_view_name": "StyleView",
            "description_width": ""
          }
        }
      }
    }
  },
  "nbformat": 4,
  "nbformat_minor": 0
}